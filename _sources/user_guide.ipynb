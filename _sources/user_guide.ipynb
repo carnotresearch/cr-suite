{
 "cells": [
  {
   "cell_type": "markdown",
   "id": "0e0ea447",
   "metadata": {},
   "source": [
    "# User Guide\n",
    "\n",
    "By default, JAX does all floating computations in 32-bit.\n",
    "We should configure it to use 64-bit at the beginning of any program."
   ]
  },
  {
   "cell_type": "code",
   "execution_count": 1,
   "id": "d17db5be",
   "metadata": {},
   "outputs": [],
   "source": [
    "# Configure JAX for 64-bit computing\n",
    "from jax.config import config\n",
    "config.update(\"jax_enable_x64\", True)"
   ]
  },
  {
   "cell_type": "markdown",
   "id": "fd2bd490",
   "metadata": {},
   "source": [
    "NumPy features from JAX"
   ]
  },
  {
   "cell_type": "code",
   "execution_count": 2,
   "id": "8f5fdf56",
   "metadata": {},
   "outputs": [],
   "source": [
    "import jax.numpy as jnp"
   ]
  },
  {
   "cell_type": "markdown",
   "id": "69d6503c",
   "metadata": {},
   "source": [
    "We often need random keys generator from JAX.\n",
    "It is convenient to generate a set of keys in advance in a script\n",
    "and use them as needed."
   ]
  },
  {
   "cell_type": "code",
   "execution_count": 3,
   "id": "12d8a230",
   "metadata": {},
   "outputs": [
    {
     "name": "stderr",
     "output_type": "stream",
     "text": [
      "WARNING:absl:No GPU/TPU found, falling back to CPU. (Set TF_CPP_MIN_LOG_LEVEL=0 and rerun for more info.)\n"
     ]
    }
   ],
   "source": [
    "from jax import random\n",
    "# Some keys for generating random numbers\n",
    "key = random.PRNGKey(0)\n",
    "keys = random.split(key, 4)"
   ]
  },
  {
   "cell_type": "markdown",
   "id": "2e836c2c",
   "metadata": {},
   "source": [
    "## Import Conventions\n",
    "\n",
    "`CR-Suite` contains a large collection of functions organized\n",
    "the form of modules. Here we summarize basic conventions of\n",
    "how to load individual modules. These conventions will\n",
    "be followed in the coding examples in rest of the book.\n",
    "\n",
    "### CR-Nimble\n",
    "\n",
    "\n",
    "Top level functions:"
   ]
  },
  {
   "cell_type": "code",
   "execution_count": 4,
   "id": "03ab5b1f",
   "metadata": {},
   "outputs": [],
   "source": [
    "import cr.nimble as crn"
   ]
  },
  {
   "cell_type": "markdown",
   "id": "428bacc5",
   "metadata": {},
   "source": [
    "Digital Signal Processing functions:"
   ]
  },
  {
   "cell_type": "code",
   "execution_count": 5,
   "id": "8ae072e9",
   "metadata": {},
   "outputs": [],
   "source": [
    "import cr.nimble.dsp as crdsp"
   ]
  },
  {
   "cell_type": "markdown",
   "id": "63c00d3c",
   "metadata": {},
   "source": [
    "### CR-Wavelets"
   ]
  },
  {
   "cell_type": "code",
   "execution_count": 6,
   "id": "a6fbec23",
   "metadata": {},
   "outputs": [],
   "source": [
    "import cr.wavelets as crwt"
   ]
  },
  {
   "cell_type": "markdown",
   "id": "7c7a791e",
   "metadata": {},
   "source": [
    "### CR-Sparse\n",
    "\n",
    "Top level functions:"
   ]
  },
  {
   "cell_type": "code",
   "execution_count": 7,
   "id": "2a7dfff7",
   "metadata": {},
   "outputs": [],
   "source": [
    "import cr.sparse as crs"
   ]
  },
  {
   "cell_type": "markdown",
   "id": "2d36d3a4",
   "metadata": {},
   "source": [
    "Linear operators:"
   ]
  },
  {
   "cell_type": "code",
   "execution_count": 8,
   "id": "59ca188b",
   "metadata": {},
   "outputs": [],
   "source": [
    "import cr.sparse.lop as crlop"
   ]
  }
 ],
 "metadata": {
  "jupytext": {
   "cell_metadata_filter": "-all",
   "formats": "md:myst",
   "text_representation": {
    "extension": ".md",
    "format_name": "myst",
    "format_version": 0.13,
    "jupytext_version": "1.11.5"
   }
  },
  "kernelspec": {
   "display_name": "Python 3",
   "language": "python",
   "name": "python3"
  },
  "language_info": {
   "codemirror_mode": {
    "name": "ipython",
    "version": 3
   },
   "file_extension": ".py",
   "mimetype": "text/x-python",
   "name": "python",
   "nbconvert_exporter": "python",
   "pygments_lexer": "ipython3",
   "version": "3.8.13"
  },
  "source_map": [
   14,
   22,
   26,
   30,
   32,
   38,
   43,
   57,
   59,
   64,
   66,
   71,
   73,
   80,
   82,
   87
  ]
 },
 "nbformat": 4,
 "nbformat_minor": 5
}